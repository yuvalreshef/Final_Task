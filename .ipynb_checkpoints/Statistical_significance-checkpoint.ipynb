{
 "cells": [
  {
   "cell_type": "markdown",
   "metadata": {},
   "source": [
    "# Final Assignment - Statistical Significance\n",
    "\n",
    "Implementing stage 5.\n",
    "\n",
    "> `By: Yuval Rehsef`\n",
    "\n",
    "> `ID: 314805045`"
   ]
  },
  {
   "cell_type": "markdown",
   "metadata": {},
   "source": [
    "## Import Libraries\n",
    "**`note: set the path to the results folder here.`**"
   ]
  },
  {
   "cell_type": "code",
   "execution_count": 3,
   "metadata": {},
   "outputs": [],
   "source": [
    "import pandas as pd\n",
    "import numpy as np\n",
    "import matplotlib.pyplot as plt\n",
    "from scipy.stats import mannwhitneyu"
   ]
  },
  {
   "cell_type": "markdown",
   "metadata": {},
   "source": [
    "## Load results\n",
    "`Load the results DataFrames.`"
   ]
  },
  {
   "cell_type": "code",
   "execution_count": 4,
   "metadata": {},
   "outputs": [],
   "source": [
    "imp_df = pd.read_csv('results/improved_VAT_results.csv')\n",
    "vat_df = pd.read_csv('results/VAT_results.csv')"
   ]
  },
  {
   "cell_type": "markdown",
   "metadata": {},
   "source": [
    "## Visualizing the results"
   ]
  },
  {
   "cell_type": "markdown",
   "metadata": {},
   "source": [
    "`Display the results (mean`$\\pm$`std)`"
   ]
  },
  {
   "cell_type": "code",
   "execution_count": 5,
   "metadata": {},
   "outputs": [
    {
     "data": {
      "text/html": [
       "<div>\n",
       "<style scoped>\n",
       "    .dataframe tbody tr th:only-of-type {\n",
       "        vertical-align: middle;\n",
       "    }\n",
       "\n",
       "    .dataframe tbody tr th {\n",
       "        vertical-align: top;\n",
       "    }\n",
       "\n",
       "    .dataframe thead th {\n",
       "        text-align: right;\n",
       "    }\n",
       "</style>\n",
       "<table border=\"1\" class=\"dataframe\">\n",
       "  <thead>\n",
       "    <tr style=\"text-align: right;\">\n",
       "      <th></th>\n",
       "      <th>VAT</th>\n",
       "      <th>Improved VAT</th>\n",
       "    </tr>\n",
       "    <tr>\n",
       "      <th>Dataset Name</th>\n",
       "      <th></th>\n",
       "      <th></th>\n",
       "    </tr>\n",
       "  </thead>\n",
       "  <tbody>\n",
       "    <tr>\n",
       "      <th>bank</th>\n",
       "      <td>0.8938</td>\n",
       "      <td>0.8929</td>\n",
       "    </tr>\n",
       "    <tr>\n",
       "      <th>blood</th>\n",
       "      <td>0.7794</td>\n",
       "      <td>0.7914</td>\n",
       "    </tr>\n",
       "    <tr>\n",
       "      <th>breast-cancer-wisc-diag</th>\n",
       "      <td>0.9701</td>\n",
       "      <td>0.9719</td>\n",
       "    </tr>\n",
       "    <tr>\n",
       "      <th>breast-tissue</th>\n",
       "      <td>0.5564</td>\n",
       "      <td>0.5336</td>\n",
       "    </tr>\n",
       "    <tr>\n",
       "      <th>cardiotocography-10clases</th>\n",
       "      <td>0.7277</td>\n",
       "      <td>0.7328</td>\n",
       "    </tr>\n",
       "    <tr>\n",
       "      <th>cardiotocography-3clases</th>\n",
       "      <td>0.8909</td>\n",
       "      <td>0.8946</td>\n",
       "    </tr>\n",
       "    <tr>\n",
       "      <th>congressional-voting</th>\n",
       "      <td>0.6067</td>\n",
       "      <td>0.5952</td>\n",
       "    </tr>\n",
       "    <tr>\n",
       "      <th>conn-bench-sonar-mines-rocks</th>\n",
       "      <td>0.8226</td>\n",
       "      <td>0.8276</td>\n",
       "    </tr>\n",
       "    <tr>\n",
       "      <th>conn-bench-vowel-deterding</th>\n",
       "      <td>0.8535</td>\n",
       "      <td>0.8798</td>\n",
       "    </tr>\n",
       "    <tr>\n",
       "      <th>fertility</th>\n",
       "      <td>0.88</td>\n",
       "      <td>0.88</td>\n",
       "    </tr>\n",
       "    <tr>\n",
       "      <th>fri_c0_250_5</th>\n",
       "      <td>0.804</td>\n",
       "      <td>0.82</td>\n",
       "    </tr>\n",
       "    <tr>\n",
       "      <th>hill-valley</th>\n",
       "      <td>0.4942</td>\n",
       "      <td>0.5</td>\n",
       "    </tr>\n",
       "    <tr>\n",
       "      <th>image-segmentation</th>\n",
       "      <td>0.8013</td>\n",
       "      <td>0.8338</td>\n",
       "    </tr>\n",
       "    <tr>\n",
       "      <th>iris</th>\n",
       "      <td>0.8067</td>\n",
       "      <td>0.8267</td>\n",
       "    </tr>\n",
       "    <tr>\n",
       "      <th>libras</th>\n",
       "      <td>0.6806</td>\n",
       "      <td>0.7028</td>\n",
       "    </tr>\n",
       "    <tr>\n",
       "      <th>mfeat-karhunen</th>\n",
       "      <td>0.946</td>\n",
       "      <td>0.903</td>\n",
       "    </tr>\n",
       "    <tr>\n",
       "      <th>parkinsons</th>\n",
       "      <td>0.8976</td>\n",
       "      <td>0.8971</td>\n",
       "    </tr>\n",
       "    <tr>\n",
       "      <th>vertebral-column-2clases</th>\n",
       "      <td>0.7387</td>\n",
       "      <td>0.8065</td>\n",
       "    </tr>\n",
       "    <tr>\n",
       "      <th>waveform</th>\n",
       "      <td>0.8592</td>\n",
       "      <td>0.8608</td>\n",
       "    </tr>\n",
       "    <tr>\n",
       "      <th>waveform-noise</th>\n",
       "      <td>0.8534</td>\n",
       "      <td>0.8552</td>\n",
       "    </tr>\n",
       "  </tbody>\n",
       "</table>\n",
       "</div>"
      ],
      "text/plain": [
       "                                 VAT Improved VAT\n",
       "Dataset Name                                     \n",
       "bank                          0.8938       0.8929\n",
       "blood                         0.7794       0.7914\n",
       "breast-cancer-wisc-diag       0.9701       0.9719\n",
       "breast-tissue                 0.5564       0.5336\n",
       "cardiotocography-10clases     0.7277       0.7328\n",
       "cardiotocography-3clases      0.8909       0.8946\n",
       "congressional-voting          0.6067       0.5952\n",
       "conn-bench-sonar-mines-rocks  0.8226       0.8276\n",
       "conn-bench-vowel-deterding    0.8535       0.8798\n",
       "fertility                       0.88         0.88\n",
       "fri_c0_250_5                   0.804         0.82\n",
       "hill-valley                   0.4942          0.5\n",
       "image-segmentation            0.8013       0.8338\n",
       "iris                          0.8067       0.8267\n",
       "libras                        0.6806       0.7028\n",
       "mfeat-karhunen                 0.946        0.903\n",
       "parkinsons                    0.8976       0.8971\n",
       "vertebral-column-2clases      0.7387       0.8065\n",
       "waveform                      0.8592       0.8608\n",
       "waveform-noise                0.8534       0.8552"
      ]
     },
     "execution_count": 5,
     "metadata": {},
     "output_type": "execute_result"
    }
   ],
   "source": [
    "df_c = pd.DataFrame()\n",
    "df_c['VAT'] = vat_df.groupby('Dataset Name').Accuracy.apply(lambda x: f'{round(x.mean(), 4)}')\n",
    "df_c['Improved VAT'] = imp_df.groupby('Dataset Name').Accuracy.apply(lambda x: f'{round(x.mean(), 4)}')\n",
    "df_c"
   ]
  },
  {
   "cell_type": "markdown",
   "metadata": {},
   "source": [
    "`displaying bar plot of the results`\n"
   ]
  },
  {
   "cell_type": "code",
   "execution_count": 6,
   "metadata": {},
   "outputs": [
    {
     "data": {
      "image/png": "[encoded data removed]",
      "text/plain": [
       "<Figure size 720x360 with 1 Axes>"
      ]
     },
     "metadata": {
      "needs_background": "light"
     },
     "output_type": "display_data"
    }
   ],
   "source": [
    "plt.figure(figsize = (10,5))\n",
    "bar_imp = plt.bar(range(20), imp_df.groupby('Dataset Name').Accuracy.apply(np.mean).values, alpha=0.5)\n",
    "bar_vat = plt.bar(range(20), vat_df.groupby('Dataset Name').Accuracy.apply(np.mean).values, alpha=0.5)\n",
    "plt.xticks(range(20), vat_df.groupby('Dataset Name').Accuracy.apply(np.mean).index)\n",
    "plt.title('Mean Results Histogram')\n",
    "plt.legend(['Improved VAT', 'VAT'])\n",
    "plt.xticks(rotation=90)\n",
    "plt.ylim(0.45,1)\n",
    "\n",
    "df_c['imp_mean'] = imp_df.groupby('Dataset Name').Accuracy.apply(np.mean)\n",
    "df_c['vat_mean'] = vat_df.groupby('Dataset Name').Accuracy.apply(np.mean)\n",
    "\n",
    "df_c['distance'] = df_c.apply(lambda x: np.abs(x.imp_mean - x.vat_mean), axis=1)\n",
    "\n",
    "for i, rect_imp in enumerate(bar_imp):\n",
    "    rect_vat = bar_vat[i]\n",
    "    height_imp = rect_imp.get_height()\n",
    "    height_vat = rect_vat.get_height()\n",
    "    height = max(height_imp, height_vat)\n",
    "    plt.text(rect_imp.get_x() + rect_imp.get_width() / 2.0, height, f'{df_c.distance.iloc[i]*100:.2f}', ha='center', va='bottom')\n",
    "\n",
    "plt.show()"
   ]
  },
  {
   "cell_type": "markdown",
   "metadata": {},
   "source": [
    "## Mannwhitneyu Test\n",
    "\n",
    "`Using Mannwhitneyu test to evaluate the models.`"
   ]
  },
  {
   "cell_type": "code",
   "execution_count": 8,
   "metadata": {},
   "outputs": [
    {
     "name": "stdout",
     "output_type": "stream",
     "text": [
      "p_value of: 0.34245566635524605\n",
      "null-hypothesis is true, the results are not statistically significant\n"
     ]
    }
   ],
   "source": [
    "stat_test_res = mannwhitneyu(df_c.imp_mean, df_c.vat_mean)\n",
    "if stat_test_res[1] < 0.05:\n",
    "    print('p_value of:', stat_test_res[1])\n",
    "    print('null-hypothesis rejected, the results are statistically significant')\n",
    "    print(posthoc_mannwhitney([df_c.imp_mean, df_c.vat_mean]))\n",
    "else:\n",
    "    print('p_value of:', stat_test_res[1])\n",
    "    print('null-hypothesis is true, the results are not statistically significant')"
   ]
  }
 ],
 "metadata": {
  "kernelspec": {
   "display_name": "Python 3",
   "language": "python",
   "name": "python3"
  },
  "language_info": {
   "codemirror_mode": {
    "name": "ipython",
    "version": 3
   },
   "file_extension": ".py",
   "mimetype": "text/x-python",
   "name": "python",
   "nbconvert_exporter": "python",
   "pygments_lexer": "ipython3",
   "version": "3.8.5"
  }
 },
 "nbformat": 4,
 "nbformat_minor": 4
}
